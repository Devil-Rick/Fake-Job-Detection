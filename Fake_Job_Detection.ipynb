{
  "nbformat": 4,
  "nbformat_minor": 0,
  "metadata": {
    "colab": {
      "name": "Fake Job Detection.ipynb",
      "provenance": [],
      "include_colab_link": true
    },
    "kernelspec": {
      "name": "python3",
      "display_name": "Python 3"
    },
    "language_info": {
      "name": "python"
    },
    "accelerator": "GPU"
  },
  "cells": [
    {
      "cell_type": "markdown",
      "metadata": {
        "id": "view-in-github",
        "colab_type": "text"
      },
      "source": [
        "<a href=\"https://colab.research.google.com/github/Devil-Rick/Fake-Job-Detection/blob/main/Fake_Job_Detection.ipynb\" target=\"_parent\"><img src=\"https://colab.research.google.com/assets/colab-badge.svg\" alt=\"Open In Colab\"/></a>"
      ]
    },
    {
      "cell_type": "markdown",
      "source": [
        "# Final Year Project \n",
        "## Group - \n",
        "#### Members :\n",
        "* Saptarshi Dhibar - 10200118026\n",
        "* Sanchita Pandit - 10200118027\n",
        "* Niladri Sarker - 10200118037\n",
        "* Koustav Roy - 10200118038"
      ],
      "metadata": {
        "id": "qu2bvhHrxyPL"
      }
    },
    {
      "cell_type": "markdown",
      "source": [
        "# **Fake Job Detection**\n",
        "The `Employment Scam Aegean Dataset `(EMSCAD) is a dataset containing 17,880 `real-life job` ads that aims at providing a clear picture of the `Employment Scam problem`.\n",
        "\n",
        "\n",
        "---\n",
        "\n",
        "\n",
        "\n",
        "---\n",
        "\n",
        "\n",
        "\n",
        "## Dataset Description\n",
        "* Name - Description\n",
        "* Title\t- The title of the job ad entry.\n",
        "* Location\t- Geographical location of the job ad.\n",
        "* Department\t- Corporate department (e.g. sales).\n",
        "* Salary range\t- Indicative salary range (e.g. $50,000-$60,000)\n",
        "* Company profile -\tA brief company description.\n",
        "* Description\t- The details description of the job ad.\n",
        "* Requirements -\tEnlisted requirements for the job opening.\n",
        "* Benefits\t- Enlisted offered benefits by the employer.\n",
        "* Telecommuting -\tTrue for telecommuting positions.\n",
        "* Company logo -\tTrue if company logo is present.\n",
        "* Questions -\tTrue if screening questions are present.\n",
        "* Fraudulent -\tClassification attribute.\n",
        "In balanced\tSelected for the balanced dataset\n",
        "* Employment type -\tFull-type, Part-time, Contract, etc.\n",
        "* Required experience\t- Executive, Entry level, Intern, etc.\n",
        "* Required education -\tDoctorate, Master’s Degree, Bachelor, etc.\n",
        "* Industry\t- Automotive, IT, Health care, Real estate, etc.\n",
        "* Function -\tConsulting, Engineering, Research, Sales etc."
      ],
      "metadata": {
        "id": "fTXTylEz4IJz"
      }
    },
    {
      "cell_type": "code",
      "source": [
        "from google.colab import drive\n",
        "drive.mount('/content/drive')"
      ],
      "metadata": {
        "colab": {
          "base_uri": "https://localhost:8080/"
        },
        "id": "1DlUGNGVzPhx",
        "outputId": "e1bcf60c-a76b-47bc-c49c-710151be6a7f"
      },
      "execution_count": null,
      "outputs": [
        {
          "output_type": "stream",
          "name": "stdout",
          "text": [
            "Mounted at /content/drive\n"
          ]
        }
      ]
    },
    {
      "cell_type": "code",
      "source": [
        "# import the required libraries\n",
        "\n",
        "%matplotlib inline\n",
        "\n",
        "import pandas as pd \n",
        "import numpy as np\n",
        "import matplotlib.pyplot as plt \n",
        "from matplotlib.gridspec import GridSpec \n",
        "import seaborn as sns\n",
        "\n",
        "\n",
        "import warnings\n",
        "warnings.filterwarnings(\"ignore\")"
      ],
      "metadata": {
        "id": "Y1bh9vx8zeUB"
      },
      "execution_count": null,
      "outputs": []
    },
    {
      "cell_type": "code",
      "source": [
        "df = pd.read_csv('/content/drive/MyDrive/Fake Job Dataset/fake_job_postings.csv')"
      ],
      "metadata": {
        "id": "EiI1vpf413uq"
      },
      "execution_count": null,
      "outputs": []
    },
    {
      "cell_type": "code",
      "source": [
        "df.head()"
      ],
      "metadata": {
        "colab": {
          "base_uri": "https://localhost:8080/",
          "height": 600
        },
        "id": "sYUpfGXW5Lj7",
        "outputId": "3a782459-ec25-460d-e5ea-02ba72c3ccef"
      },
      "execution_count": null,
      "outputs": [
        {
          "output_type": "execute_result",
          "data": {
            "text/html": [
              "\n",
              "  <div id=\"df-cf1e0ca2-e412-4245-809c-832010011939\">\n",
              "    <div class=\"colab-df-container\">\n",
              "      <div>\n",
              "<style scoped>\n",
              "    .dataframe tbody tr th:only-of-type {\n",
              "        vertical-align: middle;\n",
              "    }\n",
              "\n",
              "    .dataframe tbody tr th {\n",
              "        vertical-align: top;\n",
              "    }\n",
              "\n",
              "    .dataframe thead th {\n",
              "        text-align: right;\n",
              "    }\n",
              "</style>\n",
              "<table border=\"1\" class=\"dataframe\">\n",
              "  <thead>\n",
              "    <tr style=\"text-align: right;\">\n",
              "      <th></th>\n",
              "      <th>job_id</th>\n",
              "      <th>title</th>\n",
              "      <th>location</th>\n",
              "      <th>department</th>\n",
              "      <th>salary_range</th>\n",
              "      <th>company_profile</th>\n",
              "      <th>description</th>\n",
              "      <th>requirements</th>\n",
              "      <th>benefits</th>\n",
              "      <th>telecommuting</th>\n",
              "      <th>has_company_logo</th>\n",
              "      <th>has_questions</th>\n",
              "      <th>employment_type</th>\n",
              "      <th>required_experience</th>\n",
              "      <th>required_education</th>\n",
              "      <th>industry</th>\n",
              "      <th>function</th>\n",
              "      <th>fraudulent</th>\n",
              "    </tr>\n",
              "  </thead>\n",
              "  <tbody>\n",
              "    <tr>\n",
              "      <th>0</th>\n",
              "      <td>1</td>\n",
              "      <td>Marketing Intern</td>\n",
              "      <td>US, NY, New York</td>\n",
              "      <td>Marketing</td>\n",
              "      <td>NaN</td>\n",
              "      <td>We're Food52, and we've created a groundbreaki...</td>\n",
              "      <td>Food52, a fast-growing, James Beard Award-winn...</td>\n",
              "      <td>Experience with content management systems a m...</td>\n",
              "      <td>NaN</td>\n",
              "      <td>0</td>\n",
              "      <td>1</td>\n",
              "      <td>0</td>\n",
              "      <td>Other</td>\n",
              "      <td>Internship</td>\n",
              "      <td>NaN</td>\n",
              "      <td>NaN</td>\n",
              "      <td>Marketing</td>\n",
              "      <td>0</td>\n",
              "    </tr>\n",
              "    <tr>\n",
              "      <th>1</th>\n",
              "      <td>2</td>\n",
              "      <td>Customer Service - Cloud Video Production</td>\n",
              "      <td>NZ, , Auckland</td>\n",
              "      <td>Success</td>\n",
              "      <td>NaN</td>\n",
              "      <td>90 Seconds, the worlds Cloud Video Production ...</td>\n",
              "      <td>Organised - Focused - Vibrant - Awesome!Do you...</td>\n",
              "      <td>What we expect from you:Your key responsibilit...</td>\n",
              "      <td>What you will get from usThrough being part of...</td>\n",
              "      <td>0</td>\n",
              "      <td>1</td>\n",
              "      <td>0</td>\n",
              "      <td>Full-time</td>\n",
              "      <td>Not Applicable</td>\n",
              "      <td>NaN</td>\n",
              "      <td>Marketing and Advertising</td>\n",
              "      <td>Customer Service</td>\n",
              "      <td>0</td>\n",
              "    </tr>\n",
              "    <tr>\n",
              "      <th>2</th>\n",
              "      <td>3</td>\n",
              "      <td>Commissioning Machinery Assistant (CMA)</td>\n",
              "      <td>US, IA, Wever</td>\n",
              "      <td>NaN</td>\n",
              "      <td>NaN</td>\n",
              "      <td>Valor Services provides Workforce Solutions th...</td>\n",
              "      <td>Our client, located in Houston, is actively se...</td>\n",
              "      <td>Implement pre-commissioning and commissioning ...</td>\n",
              "      <td>NaN</td>\n",
              "      <td>0</td>\n",
              "      <td>1</td>\n",
              "      <td>0</td>\n",
              "      <td>NaN</td>\n",
              "      <td>NaN</td>\n",
              "      <td>NaN</td>\n",
              "      <td>NaN</td>\n",
              "      <td>NaN</td>\n",
              "      <td>0</td>\n",
              "    </tr>\n",
              "    <tr>\n",
              "      <th>3</th>\n",
              "      <td>4</td>\n",
              "      <td>Account Executive - Washington DC</td>\n",
              "      <td>US, DC, Washington</td>\n",
              "      <td>Sales</td>\n",
              "      <td>NaN</td>\n",
              "      <td>Our passion for improving quality of life thro...</td>\n",
              "      <td>THE COMPANY: ESRI – Environmental Systems Rese...</td>\n",
              "      <td>EDUCATION: Bachelor’s or Master’s in GIS, busi...</td>\n",
              "      <td>Our culture is anything but corporate—we have ...</td>\n",
              "      <td>0</td>\n",
              "      <td>1</td>\n",
              "      <td>0</td>\n",
              "      <td>Full-time</td>\n",
              "      <td>Mid-Senior level</td>\n",
              "      <td>Bachelor's Degree</td>\n",
              "      <td>Computer Software</td>\n",
              "      <td>Sales</td>\n",
              "      <td>0</td>\n",
              "    </tr>\n",
              "    <tr>\n",
              "      <th>4</th>\n",
              "      <td>5</td>\n",
              "      <td>Bill Review Manager</td>\n",
              "      <td>US, FL, Fort Worth</td>\n",
              "      <td>NaN</td>\n",
              "      <td>NaN</td>\n",
              "      <td>SpotSource Solutions LLC is a Global Human Cap...</td>\n",
              "      <td>JOB TITLE: Itemization Review ManagerLOCATION:...</td>\n",
              "      <td>QUALIFICATIONS:RN license in the State of Texa...</td>\n",
              "      <td>Full Benefits Offered</td>\n",
              "      <td>0</td>\n",
              "      <td>1</td>\n",
              "      <td>1</td>\n",
              "      <td>Full-time</td>\n",
              "      <td>Mid-Senior level</td>\n",
              "      <td>Bachelor's Degree</td>\n",
              "      <td>Hospital &amp; Health Care</td>\n",
              "      <td>Health Care Provider</td>\n",
              "      <td>0</td>\n",
              "    </tr>\n",
              "  </tbody>\n",
              "</table>\n",
              "</div>\n",
              "      <button class=\"colab-df-convert\" onclick=\"convertToInteractive('df-cf1e0ca2-e412-4245-809c-832010011939')\"\n",
              "              title=\"Convert this dataframe to an interactive table.\"\n",
              "              style=\"display:none;\">\n",
              "        \n",
              "  <svg xmlns=\"http://www.w3.org/2000/svg\" height=\"24px\"viewBox=\"0 0 24 24\"\n",
              "       width=\"24px\">\n",
              "    <path d=\"M0 0h24v24H0V0z\" fill=\"none\"/>\n",
              "    <path d=\"M18.56 5.44l.94 2.06.94-2.06 2.06-.94-2.06-.94-.94-2.06-.94 2.06-2.06.94zm-11 1L8.5 8.5l.94-2.06 2.06-.94-2.06-.94L8.5 2.5l-.94 2.06-2.06.94zm10 10l.94 2.06.94-2.06 2.06-.94-2.06-.94-.94-2.06-.94 2.06-2.06.94z\"/><path d=\"M17.41 7.96l-1.37-1.37c-.4-.4-.92-.59-1.43-.59-.52 0-1.04.2-1.43.59L10.3 9.45l-7.72 7.72c-.78.78-.78 2.05 0 2.83L4 21.41c.39.39.9.59 1.41.59.51 0 1.02-.2 1.41-.59l7.78-7.78 2.81-2.81c.8-.78.8-2.07 0-2.86zM5.41 20L4 18.59l7.72-7.72 1.47 1.35L5.41 20z\"/>\n",
              "  </svg>\n",
              "      </button>\n",
              "      \n",
              "  <style>\n",
              "    .colab-df-container {\n",
              "      display:flex;\n",
              "      flex-wrap:wrap;\n",
              "      gap: 12px;\n",
              "    }\n",
              "\n",
              "    .colab-df-convert {\n",
              "      background-color: #E8F0FE;\n",
              "      border: none;\n",
              "      border-radius: 50%;\n",
              "      cursor: pointer;\n",
              "      display: none;\n",
              "      fill: #1967D2;\n",
              "      height: 32px;\n",
              "      padding: 0 0 0 0;\n",
              "      width: 32px;\n",
              "    }\n",
              "\n",
              "    .colab-df-convert:hover {\n",
              "      background-color: #E2EBFA;\n",
              "      box-shadow: 0px 1px 2px rgba(60, 64, 67, 0.3), 0px 1px 3px 1px rgba(60, 64, 67, 0.15);\n",
              "      fill: #174EA6;\n",
              "    }\n",
              "\n",
              "    [theme=dark] .colab-df-convert {\n",
              "      background-color: #3B4455;\n",
              "      fill: #D2E3FC;\n",
              "    }\n",
              "\n",
              "    [theme=dark] .colab-df-convert:hover {\n",
              "      background-color: #434B5C;\n",
              "      box-shadow: 0px 1px 3px 1px rgba(0, 0, 0, 0.15);\n",
              "      filter: drop-shadow(0px 1px 2px rgba(0, 0, 0, 0.3));\n",
              "      fill: #FFFFFF;\n",
              "    }\n",
              "  </style>\n",
              "\n",
              "      <script>\n",
              "        const buttonEl =\n",
              "          document.querySelector('#df-cf1e0ca2-e412-4245-809c-832010011939 button.colab-df-convert');\n",
              "        buttonEl.style.display =\n",
              "          google.colab.kernel.accessAllowed ? 'block' : 'none';\n",
              "\n",
              "        async function convertToInteractive(key) {\n",
              "          const element = document.querySelector('#df-cf1e0ca2-e412-4245-809c-832010011939');\n",
              "          const dataTable =\n",
              "            await google.colab.kernel.invokeFunction('convertToInteractive',\n",
              "                                                     [key], {});\n",
              "          if (!dataTable) return;\n",
              "\n",
              "          const docLinkHtml = 'Like what you see? Visit the ' +\n",
              "            '<a target=\"_blank\" href=https://colab.research.google.com/notebooks/data_table.ipynb>data table notebook</a>'\n",
              "            + ' to learn more about interactive tables.';\n",
              "          element.innerHTML = '';\n",
              "          dataTable['output_type'] = 'display_data';\n",
              "          await google.colab.output.renderOutput(dataTable, element);\n",
              "          const docLink = document.createElement('div');\n",
              "          docLink.innerHTML = docLinkHtml;\n",
              "          element.appendChild(docLink);\n",
              "        }\n",
              "      </script>\n",
              "    </div>\n",
              "  </div>\n",
              "  "
            ],
            "text/plain": [
              "   job_id  ... fraudulent\n",
              "0       1  ...          0\n",
              "1       2  ...          0\n",
              "2       3  ...          0\n",
              "3       4  ...          0\n",
              "4       5  ...          0\n",
              "\n",
              "[5 rows x 18 columns]"
            ]
          },
          "metadata": {},
          "execution_count": 4
        }
      ]
    },
    {
      "cell_type": "code",
      "source": [
        "df.columns"
      ],
      "metadata": {
        "colab": {
          "base_uri": "https://localhost:8080/"
        },
        "id": "XPzH-mpC5Pui",
        "outputId": "29c1ce0e-d8fa-49f6-904e-d4e042809a64"
      },
      "execution_count": null,
      "outputs": [
        {
          "output_type": "execute_result",
          "data": {
            "text/plain": [
              "Index(['job_id', 'title', 'location', 'department', 'salary_range',\n",
              "       'company_profile', 'description', 'requirements', 'benefits',\n",
              "       'telecommuting', 'has_company_logo', 'has_questions', 'employment_type',\n",
              "       'required_experience', 'required_education', 'industry', 'function',\n",
              "       'fraudulent'],\n",
              "      dtype='object')"
            ]
          },
          "metadata": {},
          "execution_count": 5
        }
      ]
    },
    {
      "cell_type": "code",
      "source": [
        "df.shape"
      ],
      "metadata": {
        "id": "A7C7ef4y5RGS",
        "colab": {
          "base_uri": "https://localhost:8080/"
        },
        "outputId": "ac92a380-094f-4e5c-b770-af20d556e8b1"
      },
      "execution_count": null,
      "outputs": [
        {
          "output_type": "execute_result",
          "data": {
            "text/plain": [
              "(17880, 18)"
            ]
          },
          "metadata": {},
          "execution_count": 6
        }
      ]
    },
    {
      "cell_type": "code",
      "source": [
        "df.info()"
      ],
      "metadata": {
        "colab": {
          "base_uri": "https://localhost:8080/"
        },
        "id": "jbzrTnctIx0U",
        "outputId": "765b3cf3-f971-453c-ee5b-d0f2ef396a5d"
      },
      "execution_count": null,
      "outputs": [
        {
          "output_type": "stream",
          "name": "stdout",
          "text": [
            "<class 'pandas.core.frame.DataFrame'>\n",
            "RangeIndex: 17880 entries, 0 to 17879\n",
            "Data columns (total 18 columns):\n",
            " #   Column               Non-Null Count  Dtype \n",
            "---  ------               --------------  ----- \n",
            " 0   job_id               17880 non-null  int64 \n",
            " 1   title                17880 non-null  object\n",
            " 2   location             17534 non-null  object\n",
            " 3   department           6333 non-null   object\n",
            " 4   salary_range         2868 non-null   object\n",
            " 5   company_profile      14572 non-null  object\n",
            " 6   description          17879 non-null  object\n",
            " 7   requirements         15185 non-null  object\n",
            " 8   benefits             10670 non-null  object\n",
            " 9   telecommuting        17880 non-null  int64 \n",
            " 10  has_company_logo     17880 non-null  int64 \n",
            " 11  has_questions        17880 non-null  int64 \n",
            " 12  employment_type      14409 non-null  object\n",
            " 13  required_experience  10830 non-null  object\n",
            " 14  required_education   9775 non-null   object\n",
            " 15  industry             12977 non-null  object\n",
            " 16  function             11425 non-null  object\n",
            " 17  fraudulent           17880 non-null  int64 \n",
            "dtypes: int64(5), object(13)\n",
            "memory usage: 2.5+ MB\n"
          ]
        }
      ]
    },
    {
      "cell_type": "code",
      "source": [
        "df.describe()"
      ],
      "metadata": {
        "colab": {
          "base_uri": "https://localhost:8080/",
          "height": 300
        },
        "id": "RitcUlEtI2eq",
        "outputId": "ec2e20ba-a605-4709-ff43-0935c03219ca"
      },
      "execution_count": null,
      "outputs": [
        {
          "output_type": "execute_result",
          "data": {
            "text/html": [
              "\n",
              "  <div id=\"df-c54c4c79-fd56-426f-b5c9-f8bc5c2d0592\">\n",
              "    <div class=\"colab-df-container\">\n",
              "      <div>\n",
              "<style scoped>\n",
              "    .dataframe tbody tr th:only-of-type {\n",
              "        vertical-align: middle;\n",
              "    }\n",
              "\n",
              "    .dataframe tbody tr th {\n",
              "        vertical-align: top;\n",
              "    }\n",
              "\n",
              "    .dataframe thead th {\n",
              "        text-align: right;\n",
              "    }\n",
              "</style>\n",
              "<table border=\"1\" class=\"dataframe\">\n",
              "  <thead>\n",
              "    <tr style=\"text-align: right;\">\n",
              "      <th></th>\n",
              "      <th>job_id</th>\n",
              "      <th>telecommuting</th>\n",
              "      <th>has_company_logo</th>\n",
              "      <th>has_questions</th>\n",
              "      <th>fraudulent</th>\n",
              "    </tr>\n",
              "  </thead>\n",
              "  <tbody>\n",
              "    <tr>\n",
              "      <th>count</th>\n",
              "      <td>17880.000000</td>\n",
              "      <td>17880.000000</td>\n",
              "      <td>17880.000000</td>\n",
              "      <td>17880.000000</td>\n",
              "      <td>17880.000000</td>\n",
              "    </tr>\n",
              "    <tr>\n",
              "      <th>mean</th>\n",
              "      <td>8940.500000</td>\n",
              "      <td>0.042897</td>\n",
              "      <td>0.795302</td>\n",
              "      <td>0.491723</td>\n",
              "      <td>0.048434</td>\n",
              "    </tr>\n",
              "    <tr>\n",
              "      <th>std</th>\n",
              "      <td>5161.655742</td>\n",
              "      <td>0.202631</td>\n",
              "      <td>0.403492</td>\n",
              "      <td>0.499945</td>\n",
              "      <td>0.214688</td>\n",
              "    </tr>\n",
              "    <tr>\n",
              "      <th>min</th>\n",
              "      <td>1.000000</td>\n",
              "      <td>0.000000</td>\n",
              "      <td>0.000000</td>\n",
              "      <td>0.000000</td>\n",
              "      <td>0.000000</td>\n",
              "    </tr>\n",
              "    <tr>\n",
              "      <th>25%</th>\n",
              "      <td>4470.750000</td>\n",
              "      <td>0.000000</td>\n",
              "      <td>1.000000</td>\n",
              "      <td>0.000000</td>\n",
              "      <td>0.000000</td>\n",
              "    </tr>\n",
              "    <tr>\n",
              "      <th>50%</th>\n",
              "      <td>8940.500000</td>\n",
              "      <td>0.000000</td>\n",
              "      <td>1.000000</td>\n",
              "      <td>0.000000</td>\n",
              "      <td>0.000000</td>\n",
              "    </tr>\n",
              "    <tr>\n",
              "      <th>75%</th>\n",
              "      <td>13410.250000</td>\n",
              "      <td>0.000000</td>\n",
              "      <td>1.000000</td>\n",
              "      <td>1.000000</td>\n",
              "      <td>0.000000</td>\n",
              "    </tr>\n",
              "    <tr>\n",
              "      <th>max</th>\n",
              "      <td>17880.000000</td>\n",
              "      <td>1.000000</td>\n",
              "      <td>1.000000</td>\n",
              "      <td>1.000000</td>\n",
              "      <td>1.000000</td>\n",
              "    </tr>\n",
              "  </tbody>\n",
              "</table>\n",
              "</div>\n",
              "      <button class=\"colab-df-convert\" onclick=\"convertToInteractive('df-c54c4c79-fd56-426f-b5c9-f8bc5c2d0592')\"\n",
              "              title=\"Convert this dataframe to an interactive table.\"\n",
              "              style=\"display:none;\">\n",
              "        \n",
              "  <svg xmlns=\"http://www.w3.org/2000/svg\" height=\"24px\"viewBox=\"0 0 24 24\"\n",
              "       width=\"24px\">\n",
              "    <path d=\"M0 0h24v24H0V0z\" fill=\"none\"/>\n",
              "    <path d=\"M18.56 5.44l.94 2.06.94-2.06 2.06-.94-2.06-.94-.94-2.06-.94 2.06-2.06.94zm-11 1L8.5 8.5l.94-2.06 2.06-.94-2.06-.94L8.5 2.5l-.94 2.06-2.06.94zm10 10l.94 2.06.94-2.06 2.06-.94-2.06-.94-.94-2.06-.94 2.06-2.06.94z\"/><path d=\"M17.41 7.96l-1.37-1.37c-.4-.4-.92-.59-1.43-.59-.52 0-1.04.2-1.43.59L10.3 9.45l-7.72 7.72c-.78.78-.78 2.05 0 2.83L4 21.41c.39.39.9.59 1.41.59.51 0 1.02-.2 1.41-.59l7.78-7.78 2.81-2.81c.8-.78.8-2.07 0-2.86zM5.41 20L4 18.59l7.72-7.72 1.47 1.35L5.41 20z\"/>\n",
              "  </svg>\n",
              "      </button>\n",
              "      \n",
              "  <style>\n",
              "    .colab-df-container {\n",
              "      display:flex;\n",
              "      flex-wrap:wrap;\n",
              "      gap: 12px;\n",
              "    }\n",
              "\n",
              "    .colab-df-convert {\n",
              "      background-color: #E8F0FE;\n",
              "      border: none;\n",
              "      border-radius: 50%;\n",
              "      cursor: pointer;\n",
              "      display: none;\n",
              "      fill: #1967D2;\n",
              "      height: 32px;\n",
              "      padding: 0 0 0 0;\n",
              "      width: 32px;\n",
              "    }\n",
              "\n",
              "    .colab-df-convert:hover {\n",
              "      background-color: #E2EBFA;\n",
              "      box-shadow: 0px 1px 2px rgba(60, 64, 67, 0.3), 0px 1px 3px 1px rgba(60, 64, 67, 0.15);\n",
              "      fill: #174EA6;\n",
              "    }\n",
              "\n",
              "    [theme=dark] .colab-df-convert {\n",
              "      background-color: #3B4455;\n",
              "      fill: #D2E3FC;\n",
              "    }\n",
              "\n",
              "    [theme=dark] .colab-df-convert:hover {\n",
              "      background-color: #434B5C;\n",
              "      box-shadow: 0px 1px 3px 1px rgba(0, 0, 0, 0.15);\n",
              "      filter: drop-shadow(0px 1px 2px rgba(0, 0, 0, 0.3));\n",
              "      fill: #FFFFFF;\n",
              "    }\n",
              "  </style>\n",
              "\n",
              "      <script>\n",
              "        const buttonEl =\n",
              "          document.querySelector('#df-c54c4c79-fd56-426f-b5c9-f8bc5c2d0592 button.colab-df-convert');\n",
              "        buttonEl.style.display =\n",
              "          google.colab.kernel.accessAllowed ? 'block' : 'none';\n",
              "\n",
              "        async function convertToInteractive(key) {\n",
              "          const element = document.querySelector('#df-c54c4c79-fd56-426f-b5c9-f8bc5c2d0592');\n",
              "          const dataTable =\n",
              "            await google.colab.kernel.invokeFunction('convertToInteractive',\n",
              "                                                     [key], {});\n",
              "          if (!dataTable) return;\n",
              "\n",
              "          const docLinkHtml = 'Like what you see? Visit the ' +\n",
              "            '<a target=\"_blank\" href=https://colab.research.google.com/notebooks/data_table.ipynb>data table notebook</a>'\n",
              "            + ' to learn more about interactive tables.';\n",
              "          element.innerHTML = '';\n",
              "          dataTable['output_type'] = 'display_data';\n",
              "          await google.colab.output.renderOutput(dataTable, element);\n",
              "          const docLink = document.createElement('div');\n",
              "          docLink.innerHTML = docLinkHtml;\n",
              "          element.appendChild(docLink);\n",
              "        }\n",
              "      </script>\n",
              "    </div>\n",
              "  </div>\n",
              "  "
            ],
            "text/plain": [
              "             job_id  telecommuting  ...  has_questions    fraudulent\n",
              "count  17880.000000   17880.000000  ...   17880.000000  17880.000000\n",
              "mean    8940.500000       0.042897  ...       0.491723      0.048434\n",
              "std     5161.655742       0.202631  ...       0.499945      0.214688\n",
              "min        1.000000       0.000000  ...       0.000000      0.000000\n",
              "25%     4470.750000       0.000000  ...       0.000000      0.000000\n",
              "50%     8940.500000       0.000000  ...       0.000000      0.000000\n",
              "75%    13410.250000       0.000000  ...       1.000000      0.000000\n",
              "max    17880.000000       1.000000  ...       1.000000      1.000000\n",
              "\n",
              "[8 rows x 5 columns]"
            ]
          },
          "metadata": {},
          "execution_count": 8
        }
      ]
    },
    {
      "cell_type": "code",
      "source": [
        "df.fillna(' ', inplace=True)"
      ],
      "metadata": {
        "id": "kbQ25QeESYGi"
      },
      "execution_count": null,
      "outputs": []
    },
    {
      "cell_type": "markdown",
      "source": [
        "### Observation from Cell above"
      ],
      "metadata": {
        "id": "bDvzU1b1Ku5C"
      }
    },
    {
      "cell_type": "markdown",
      "source": [
        "# **Starting The EDA**  "
      ],
      "metadata": {
        "id": "9ANF9oxnJOuf"
      }
    },
    {
      "cell_type": "code",
      "source": [
        "df.isnull().sum()"
      ],
      "metadata": {
        "colab": {
          "base_uri": "https://localhost:8080/"
        },
        "id": "2JvEooShJDED",
        "outputId": "061df8d9-ce09-4660-b3ba-b017a661d3b3"
      },
      "execution_count": null,
      "outputs": [
        {
          "output_type": "execute_result",
          "data": {
            "text/plain": [
              "job_id                 0\n",
              "title                  0\n",
              "location               0\n",
              "department             0\n",
              "salary_range           0\n",
              "company_profile        0\n",
              "description            0\n",
              "requirements           0\n",
              "benefits               0\n",
              "telecommuting          0\n",
              "has_company_logo       0\n",
              "has_questions          0\n",
              "employment_type        0\n",
              "required_experience    0\n",
              "required_education     0\n",
              "industry               0\n",
              "function               0\n",
              "fraudulent             0\n",
              "dtype: int64"
            ]
          },
          "metadata": {},
          "execution_count": 10
        }
      ]
    },
    {
      "cell_type": "markdown",
      "source": [
        "### Observation from Cell above\n",
        "\n"
      ],
      "metadata": {
        "id": "2hQdADTiMAa9"
      }
    },
    {
      "cell_type": "code",
      "source": [
        "sns.countplot(df['fraudulent']);\n",
        "df.groupby('fraudulent').count()['title'].reset_index().sort_values(by='title',ascending=False)"
      ],
      "metadata": {
        "colab": {
          "base_uri": "https://localhost:8080/",
          "height": 374
        },
        "id": "UYIjiaUMKZjl",
        "outputId": "42cea6e3-d832-4fd6-982a-ffb31e437150"
      },
      "execution_count": 30,
      "outputs": [
        {
          "output_type": "execute_result",
          "data": {
            "text/html": [
              "\n",
              "  <div id=\"df-8e38cbaa-1a2f-4b54-9e9b-8c60eac4fcaf\">\n",
              "    <div class=\"colab-df-container\">\n",
              "      <div>\n",
              "<style scoped>\n",
              "    .dataframe tbody tr th:only-of-type {\n",
              "        vertical-align: middle;\n",
              "    }\n",
              "\n",
              "    .dataframe tbody tr th {\n",
              "        vertical-align: top;\n",
              "    }\n",
              "\n",
              "    .dataframe thead th {\n",
              "        text-align: right;\n",
              "    }\n",
              "</style>\n",
              "<table border=\"1\" class=\"dataframe\">\n",
              "  <thead>\n",
              "    <tr style=\"text-align: right;\">\n",
              "      <th></th>\n",
              "      <th>fraudulent</th>\n",
              "      <th>title</th>\n",
              "    </tr>\n",
              "  </thead>\n",
              "  <tbody>\n",
              "    <tr>\n",
              "      <th>0</th>\n",
              "      <td>0</td>\n",
              "      <td>17014</td>\n",
              "    </tr>\n",
              "    <tr>\n",
              "      <th>1</th>\n",
              "      <td>1</td>\n",
              "      <td>866</td>\n",
              "    </tr>\n",
              "  </tbody>\n",
              "</table>\n",
              "</div>\n",
              "      <button class=\"colab-df-convert\" onclick=\"convertToInteractive('df-8e38cbaa-1a2f-4b54-9e9b-8c60eac4fcaf')\"\n",
              "              title=\"Convert this dataframe to an interactive table.\"\n",
              "              style=\"display:none;\">\n",
              "        \n",
              "  <svg xmlns=\"http://www.w3.org/2000/svg\" height=\"24px\"viewBox=\"0 0 24 24\"\n",
              "       width=\"24px\">\n",
              "    <path d=\"M0 0h24v24H0V0z\" fill=\"none\"/>\n",
              "    <path d=\"M18.56 5.44l.94 2.06.94-2.06 2.06-.94-2.06-.94-.94-2.06-.94 2.06-2.06.94zm-11 1L8.5 8.5l.94-2.06 2.06-.94-2.06-.94L8.5 2.5l-.94 2.06-2.06.94zm10 10l.94 2.06.94-2.06 2.06-.94-2.06-.94-.94-2.06-.94 2.06-2.06.94z\"/><path d=\"M17.41 7.96l-1.37-1.37c-.4-.4-.92-.59-1.43-.59-.52 0-1.04.2-1.43.59L10.3 9.45l-7.72 7.72c-.78.78-.78 2.05 0 2.83L4 21.41c.39.39.9.59 1.41.59.51 0 1.02-.2 1.41-.59l7.78-7.78 2.81-2.81c.8-.78.8-2.07 0-2.86zM5.41 20L4 18.59l7.72-7.72 1.47 1.35L5.41 20z\"/>\n",
              "  </svg>\n",
              "      </button>\n",
              "      \n",
              "  <style>\n",
              "    .colab-df-container {\n",
              "      display:flex;\n",
              "      flex-wrap:wrap;\n",
              "      gap: 12px;\n",
              "    }\n",
              "\n",
              "    .colab-df-convert {\n",
              "      background-color: #E8F0FE;\n",
              "      border: none;\n",
              "      border-radius: 50%;\n",
              "      cursor: pointer;\n",
              "      display: none;\n",
              "      fill: #1967D2;\n",
              "      height: 32px;\n",
              "      padding: 0 0 0 0;\n",
              "      width: 32px;\n",
              "    }\n",
              "\n",
              "    .colab-df-convert:hover {\n",
              "      background-color: #E2EBFA;\n",
              "      box-shadow: 0px 1px 2px rgba(60, 64, 67, 0.3), 0px 1px 3px 1px rgba(60, 64, 67, 0.15);\n",
              "      fill: #174EA6;\n",
              "    }\n",
              "\n",
              "    [theme=dark] .colab-df-convert {\n",
              "      background-color: #3B4455;\n",
              "      fill: #D2E3FC;\n",
              "    }\n",
              "\n",
              "    [theme=dark] .colab-df-convert:hover {\n",
              "      background-color: #434B5C;\n",
              "      box-shadow: 0px 1px 3px 1px rgba(0, 0, 0, 0.15);\n",
              "      filter: drop-shadow(0px 1px 2px rgba(0, 0, 0, 0.3));\n",
              "      fill: #FFFFFF;\n",
              "    }\n",
              "  </style>\n",
              "\n",
              "      <script>\n",
              "        const buttonEl =\n",
              "          document.querySelector('#df-8e38cbaa-1a2f-4b54-9e9b-8c60eac4fcaf button.colab-df-convert');\n",
              "        buttonEl.style.display =\n",
              "          google.colab.kernel.accessAllowed ? 'block' : 'none';\n",
              "\n",
              "        async function convertToInteractive(key) {\n",
              "          const element = document.querySelector('#df-8e38cbaa-1a2f-4b54-9e9b-8c60eac4fcaf');\n",
              "          const dataTable =\n",
              "            await google.colab.kernel.invokeFunction('convertToInteractive',\n",
              "                                                     [key], {});\n",
              "          if (!dataTable) return;\n",
              "\n",
              "          const docLinkHtml = 'Like what you see? Visit the ' +\n",
              "            '<a target=\"_blank\" href=https://colab.research.google.com/notebooks/data_table.ipynb>data table notebook</a>'\n",
              "            + ' to learn more about interactive tables.';\n",
              "          element.innerHTML = '';\n",
              "          dataTable['output_type'] = 'display_data';\n",
              "          await google.colab.output.renderOutput(dataTable, element);\n",
              "          const docLink = document.createElement('div');\n",
              "          docLink.innerHTML = docLinkHtml;\n",
              "          element.appendChild(docLink);\n",
              "        }\n",
              "      </script>\n",
              "    </div>\n",
              "  </div>\n",
              "  "
            ],
            "text/plain": [
              "   fraudulent  title\n",
              "0           0  17014\n",
              "1           1    866"
            ]
          },
          "metadata": {},
          "execution_count": 30
        },
        {
          "output_type": "display_data",
          "data": {
            "image/png": "[encoded data removed]",
            "text/plain": [
              "<Figure size 432x288 with 1 Axes>"
            ]
          },
          "metadata": {
            "needs_background": "light"
          }
        }
      ]
    },
    {
      "cell_type": "markdown",
      "source": [
        "### Observation from Cell above"
      ],
      "metadata": {
        "id": "7WnBr_l9MZcQ"
      }
    },
    {
      "cell_type": "code",
      "source": [
        "df.title.value_counts()"
      ],
      "metadata": {
        "colab": {
          "base_uri": "https://localhost:8080/"
        },
        "id": "OaGXX8M4L9M7",
        "outputId": "8e646dd2-acf4-4a1c-95b5-ff5f6f2f598e"
      },
      "execution_count": null,
      "outputs": [
        {
          "output_type": "execute_result",
          "data": {
            "text/plain": [
              "English Teacher Abroad                                       311\n",
              "Customer Service Associate                                   146\n",
              "Graduates: English Teacher Abroad (Conversational)           144\n",
              "English Teacher Abroad                                        95\n",
              "Software Engineer                                             86\n",
              "                                                            ... \n",
              "Editorial Production Assistant                                 1\n",
              "iOS Developer (C++ focus)                                      1\n",
              "Intern (Marketing Analytics)                                   1\n",
              "School Bus Driver - Kitchener-Waterloo, Wellington County      1\n",
              "Interns                                                        1\n",
              "Name: title, Length: 11231, dtype: int64"
            ]
          },
          "metadata": {},
          "execution_count": 12
        }
      ]
    },
    {
      "cell_type": "code",
      "source": [
        "df.title.where(df.fraudulent == 1).value_counts()"
      ],
      "metadata": {
        "colab": {
          "base_uri": "https://localhost:8080/"
        },
        "id": "0QfcE0fDM4Zu",
        "outputId": "713c57f5-9170-4c22-e12d-9706d069ab1a"
      },
      "execution_count": null,
      "outputs": [
        {
          "output_type": "execute_result",
          "data": {
            "text/plain": [
              "Cruise Staff Wanted *URGENT*                                                                                       21\n",
              "Home Based Payroll Typist/Data Entry Clerks Positions Available                                                    21\n",
              "Data Entry Admin/Clerical Positions - Work From Home                                                               21\n",
              "Customer Service Representative                                                                                    17\n",
              "Administrative Assistant                                                                                           16\n",
              "                                                                                                                   ..\n",
              "Admin Clerical Data Processor                                                                                       1\n",
              "Front Office Manager/reception                                                                                      1\n",
              "Data Entry, Clerical Admin, Administrative Assistant, Customer Service, Accounting, payroll Clerk, Book keeping     1\n",
              "Strategic Sourcing Engineer   2053                                                                                  1\n",
              "Sales Professional- SMB                                                                                             1\n",
              "Name: title, Length: 560, dtype: int64"
            ]
          },
          "metadata": {},
          "execution_count": 13
        }
      ]
    },
    {
      "cell_type": "code",
      "source": [
        "df.location.unique()"
      ],
      "metadata": {
        "colab": {
          "base_uri": "https://localhost:8080/"
        },
        "id": "g-pdyX_8N4Z8",
        "outputId": "6d86fe30-83aa-437e-ef8b-cf28ceebf1a1"
      },
      "execution_count": null,
      "outputs": [
        {
          "output_type": "execute_result",
          "data": {
            "text/plain": [
              "array(['US, NY, New York', 'NZ, , Auckland', 'US, IA, Wever', ...,\n",
              "       'US, CA, los Angeles', 'CA, , Ottawa', 'GB, WSX, Chichester'],\n",
              "      dtype=object)"
            ]
          },
          "metadata": {},
          "execution_count": 14
        }
      ]
    },
    {
      "cell_type": "code",
      "source": [
        "# Creating a new Column Country from the existing Location\n",
        "def country(location):\n",
        "  out = location.split(',')\n",
        "  return out[0]\n",
        "df['Country'] = df.location.apply(country) \n",
        "df.Country.value_counts()"
      ],
      "metadata": {
        "colab": {
          "base_uri": "https://localhost:8080/"
        },
        "id": "p7oo6KqlQTfS",
        "outputId": "3cfdd6e6-dc90-45d6-f2e2-fc2cb9684961"
      },
      "execution_count": null,
      "outputs": [
        {
          "output_type": "execute_result",
          "data": {
            "text/plain": [
              "US    10656\n",
              "GB     2384\n",
              "GR      940\n",
              "CA      457\n",
              "DE      383\n",
              "      ...  \n",
              "CO        1\n",
              "PE        1\n",
              "GH        1\n",
              "AL        1\n",
              "HR        1\n",
              "Name: Country, Length: 91, dtype: int64"
            ]
          },
          "metadata": {},
          "execution_count": 15
        }
      ]
    },
    {
      "cell_type": "code",
      "source": [
        "df.Country.where(df.fraudulent == 1).value_counts()"
      ],
      "metadata": {
        "colab": {
          "base_uri": "https://localhost:8080/"
        },
        "id": "uTun3xcjNKlj",
        "outputId": "85824bfa-317a-4a69-caed-44e8998908ab"
      },
      "execution_count": null,
      "outputs": [
        {
          "output_type": "execute_result",
          "data": {
            "text/plain": [
              "US    730\n",
              "AU     40\n",
              "GB     23\n",
              "       19\n",
              "CA     12\n",
              "MY     12\n",
              "QA      6\n",
              "BH      5\n",
              "IN      4\n",
              "PL      3\n",
              "TW      2\n",
              "ZA      1\n",
              "BR      1\n",
              "ES      1\n",
              "ID      1\n",
              "EE      1\n",
              "PK      1\n",
              "PH      1\n",
              "EG      1\n",
              "AE      1\n",
              "SA      1\n",
              "Name: Country, dtype: int64"
            ]
          },
          "metadata": {},
          "execution_count": 16
        }
      ]
    },
    {
      "cell_type": "code",
      "source": [
        "# fraud JOB posting in each Country\n",
        "fraud_job_Country = dict(df.Country.where(df.fraudulent == 1).value_counts()[:12])\n",
        "fraud_job_values = list(fraud_job_Country.values())\n",
        "fraud_job_keys = list(fraud_job_Country.keys())\n",
        "\n",
        "# total JOB posting in each Country\n",
        "all_job_Country = dict(df.Country.value_counts()[:12])\n",
        "all_job_values = list(all_job_Country.values())\n",
        "all_job_keys = list(all_job_Country.keys())\n",
        "\n",
        "# Plot\n",
        "fig = plt.figure(figsize=(20,8))\n",
        "gs = fig.add_gridspec(2,2)\n",
        "fig.suptitle('Fraud Postings VS Job Postings' , size = 25)\n",
        "\n",
        "ax1 = fig.add_subplot(gs[:,0])\n",
        "ax1.set_title('Most Fraud Job Postings In Different Countries' , size = 20)\n",
        "ax1.set_ylabel('Count of Fake Posts' , size = 15)\n",
        "ax1.set_xlabel('Countries' , size = 15)\n",
        "sns.barplot(x = fraud_job_keys , y = fraud_job_values);\n",
        "\n",
        "\n",
        "ax2 = fig.add_subplot(gs[:,1])\n",
        "ax2.set_title('Job Postings In Different Countries' , size = 20)\n",
        "ax2.set_ylabel('Count of Job Posts' , size = 15)\n",
        "ax2.set_xlabel('Countries' , size = 15)\n",
        "sns.barplot(x = all_job_keys , y = all_job_values);\n"
      ],
      "metadata": {
        "colab": {
          "base_uri": "https://localhost:8080/",
          "height": 529
        },
        "id": "El8wSo-FNswG",
        "outputId": "25baa48c-d0ef-40d8-f041-c58f6f4b8c41"
      },
      "execution_count": null,
      "outputs": [
        {
          "output_type": "display_data",
          "data": {
            "image/png": "[encoded data removed]",
            "text/plain": [
              "<Figure size 1440x576 with 2 Axes>"
            ]
          },
          "metadata": {
            "needs_background": "light"
          }
        }
      ]
    },
    {
      "cell_type": "code",
      "source": [
        "most_fraud = dict(df.location.where((df.Country == 'US') & (df.fraudulent == 1)).value_counts()[:15])\n",
        "\n",
        "# plot\n",
        "plt.figure(figsize=(15,6))\n",
        "plt.title('Most Fraud Job Postings In US states' , size = 20)\n",
        "plt.xticks(rotation= 45)\n",
        "plt.ylabel('Count of Fake Posts' , size = 15)\n",
        "plt.xlabel('States in US' , size = 15)\n",
        "plt.bar(most_fraud.keys() , most_fraud.values());"
      ],
      "metadata": {
        "id": "rNciJGB6UWEc",
        "colab": {
          "base_uri": "https://localhost:8080/",
          "height": 488
        },
        "outputId": "aa18538f-fd4d-4eb0-9603-2615852fec57"
      },
      "execution_count": null,
      "outputs": [
        {
          "output_type": "display_data",
          "data": {
            "image/png": "[encoded data removed]",
            "text/plain": [
              "<Figure size 1080x432 with 1 Axes>"
            ]
          },
          "metadata": {
            "needs_background": "light"
          }
        }
      ]
    },
    {
      "cell_type": "code",
      "source": [
        "df['required_experience'].value_counts()"
      ],
      "metadata": {
        "id": "4ovsfWTOS7fW",
        "colab": {
          "base_uri": "https://localhost:8080/"
        },
        "outputId": "ec26c4f6-1955-4d6c-c0f4-127f29bf2e62"
      },
      "execution_count": null,
      "outputs": [
        {
          "output_type": "execute_result",
          "data": {
            "text/plain": [
              "                    7050\n",
              "Mid-Senior level    3809\n",
              "Entry level         2697\n",
              "Associate           2297\n",
              "Not Applicable      1116\n",
              "Director             389\n",
              "Internship           381\n",
              "Executive            141\n",
              "Name: required_experience, dtype: int64"
            ]
          },
          "metadata": {},
          "execution_count": 19
        }
      ]
    },
    {
      "cell_type": "code",
      "source": [
        "plt.figure(figsize=(15,6))\n",
        "plt.title('Fraud w.r.t Experiance' , size = 20)\n",
        "plt.xticks(rotation= 45)\n",
        "plt.ylabel('Count' , size = 15)\n",
        "plt.xlabel('Experiance' , size = 15)\n",
        "sns.countplot(df['required_experience'] , hue=df['fraudulent']);"
      ],
      "metadata": {
        "colab": {
          "base_uri": "https://localhost:8080/",
          "height": 469
        },
        "id": "FnsQo3hrLd8F",
        "outputId": "e840541a-c73c-4e76-c6a8-5dafcc48504f"
      },
      "execution_count": null,
      "outputs": [
        {
          "output_type": "display_data",
          "data": {
            "image/png": "[encoded data removed]",
            "text/plain": [
              "<Figure size 1080x432 with 1 Axes>"
            ]
          },
          "metadata": {
            "needs_background": "light"
          }
        }
      ]
    },
    {
      "cell_type": "code",
      "source": [
        "df['function'].where(df['fraudulent'] == 1).value_counts()"
      ],
      "metadata": {
        "colab": {
          "base_uri": "https://localhost:8080/"
        },
        "id": "Cf1ZE3_2LtCV",
        "outputId": "db1bec60-f2e5-4d29-dd87-7316534366cd"
      },
      "execution_count": null,
      "outputs": [
        {
          "output_type": "execute_result",
          "data": {
            "text/plain": [
              "                          337\n",
              "Administrative            119\n",
              "Engineering               113\n",
              "Customer Service           67\n",
              "Sales                      41\n",
              "Information Technology     32\n",
              "Other                      32\n",
              "Accounting/Auditing        29\n",
              "Finance                    15\n",
              "Business Development       13\n",
              "Project Management         10\n",
              "Marketing                  10\n",
              "Human Resources             9\n",
              "Management                  6\n",
              "Financial Analyst           5\n",
              "Advertising                 5\n",
              "Consulting                  4\n",
              "Data Analyst                4\n",
              "Design                      3\n",
              "Distribution                3\n",
              "Manufacturing               2\n",
              "Education                   1\n",
              "Public Relations            1\n",
              "Art/Creative                1\n",
              "General Business            1\n",
              "Health Care Provider        1\n",
              "Strategy/Planning           1\n",
              "Business Analyst            1\n",
              "Name: function, dtype: int64"
            ]
          },
          "metadata": {},
          "execution_count": 21
        }
      ]
    },
    {
      "cell_type": "code",
      "source": [
        "most_fraud = dict(df.industry.value_counts()[:15])\n",
        "\n",
        "# plot\n",
        "plt.figure(figsize=(15,6))\n",
        "plt.title('Most Job Postings In Industries' , size = 20)\n",
        "plt.xticks(rotation= 90)\n",
        "plt.ylabel('Count' , size = 15)\n",
        "plt.xlabel('Industries' , size = 15)\n",
        "plt.bar(most_fraud.keys() , most_fraud.values());"
      ],
      "metadata": {
        "colab": {
          "base_uri": "https://localhost:8080/",
          "height": 588
        },
        "id": "5pZfB4bLVdvt",
        "outputId": "20e98a96-a511-44da-95e9-b0bbccdd308a"
      },
      "execution_count": null,
      "outputs": [
        {
          "output_type": "display_data",
          "data": {
            "image/png": "[encoded data removed]",
            "text/plain": [
              "<Figure size 1080x432 with 1 Axes>"
            ]
          },
          "metadata": {
            "needs_background": "light"
          }
        }
      ]
    },
    {
      "cell_type": "code",
      "source": [
        "df['department'].value_counts()"
      ],
      "metadata": {
        "id": "MgL0ycAe5gm4",
        "colab": {
          "base_uri": "https://localhost:8080/"
        },
        "outputId": "9654e86a-ffe2-4950-d971-c45bdf513b11"
      },
      "execution_count": 26,
      "outputs": [
        {
          "output_type": "execute_result",
          "data": {
            "text/plain": [
              "                                      11553\n",
              "Sales                                   551\n",
              "Engineering                             487\n",
              "Marketing                               401\n",
              "Operations                              270\n",
              "                                      ...  \n",
              "Small Luxury Lodge                        1\n",
              "kitchen                                   1\n",
              "Recovery-Secured-Default-HomeSaver        1\n",
              "Production                                1\n",
              "High-Tech Engineering                     1\n",
              "Name: department, Length: 1337, dtype: int64"
            ]
          },
          "metadata": {},
          "execution_count": 26
        }
      ]
    },
    {
      "cell_type": "code",
      "source": [
        "df['employment_type'].value_counts()"
      ],
      "metadata": {
        "id": "neFcnFTnPqof",
        "colab": {
          "base_uri": "https://localhost:8080/"
        },
        "outputId": "57caa70f-c608-438e-fe54-3da9b9bc6fef"
      },
      "execution_count": 33,
      "outputs": [
        {
          "output_type": "execute_result",
          "data": {
            "text/plain": [
              "Full-time    11620\n",
              "              3471\n",
              "Contract      1524\n",
              "Part-time      797\n",
              "Temporary      241\n",
              "Other          227\n",
              "Name: employment_type, dtype: int64"
            ]
          },
          "metadata": {},
          "execution_count": 33
        }
      ]
    },
    {
      "cell_type": "code",
      "source": [
        "plt.figure(figsize=(15,6))\n",
        "plt.title('Job Openings Department Wise' , size = 20)\n",
        "sns.countplot(x = 'department', hue=\"employment_type\", \n",
        "              data=df,order=df.department.value_counts().iloc[1:10].index);"
      ],
      "metadata": {
        "colab": {
          "base_uri": "https://localhost:8080/",
          "height": 409
        },
        "id": "HteUGSBqCAqF",
        "outputId": "08279b37-3eb1-4ff1-8e76-59f1ec905dee"
      },
      "execution_count": 45,
      "outputs": [
        {
          "output_type": "display_data",
          "data": {
            "image/png": "[encoded data removed]",
            "text/plain": [
              "<Figure size 1080x432 with 1 Axes>"
            ]
          },
          "metadata": {
            "needs_background": "light"
          }
        }
      ]
    },
    {
      "cell_type": "markdown",
      "source": [
        "## Cleaning and Pre-Processing The Data"
      ],
      "metadata": {
        "id": "2SOnTY14PdJK"
      }
    },
    {
      "cell_type": "code",
      "source": [
        ""
      ],
      "metadata": {
        "id": "l7rYYR79By6W"
      },
      "execution_count": null,
      "outputs": []
    }
  ]
}